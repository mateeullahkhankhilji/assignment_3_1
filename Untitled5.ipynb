{
  "nbformat": 4,
  "nbformat_minor": 0,
  "metadata": {
    "colab": {
      "provenance": []
    },
    "kernelspec": {
      "name": "python3",
      "display_name": "Python 3"
    },
    "language_info": {
      "name": "python"
    }
  },
  "cells": [
    {
      "cell_type": "markdown",
      "source": [
        "1. Why are functions advantageous to have in your programs?\n",
        "###Functions promote code reusability, make code more modular, readable, and efficient.\n",
        "2. When does the code in a function run: when it&#39;s specified or when it&#39;s called?\n",
        "###The code in a function runs when it is called, not when it is specified.\n",
        "3. What statement creates a function?\n",
        "###The def statement creates a function.\n",
        "4. What is the difference between a function and a function call?\n",
        "###A function is a block of code that performs a specific task, while a function call is the code used to invoke or execute that function.\n",
        "5. How many global scopes are there in a Python program? How many local scopes?\n",
        "###There is only one global scope in a Python program, but local scopes can be created within functions.\n",
        "6. What happens to variables in a local scope when the function call returns?\n",
        "###Variables in a local scope are destroyed when the function call returns.\n",
        "7. What is the concept of a return value? Is it possible to have a return value in an expression?\n",
        "###A return value is the value that a function returns to the caller. It is possible to have a return value in an expression.\n",
        "8. If a function does not have a return statement, what is the return value of a call to that function?\n",
        "###If a function does not have a return statement, its return value is None.\n",
        "9. How do you make a function variable refer to the global variable?\n",
        "###To make a function variable refer to the global variable, you can use the global keyword.\n",
        "10. What is the data type of None?\n",
        "###The data type of None is NoneType.\n",
        "11. What does the sentence import areallyourpetsnamederic do?\n",
        "###The sentence import areallyourpetsnamederic does not do anything useful in Python, as it is not a valid module or package.\n",
        "12. If you had a bacon() feature in a spam module, what would you call it after importing spam?\n",
        "###After importing spam, you can call the bacon() function in spam module as spam.bacon().\n",
        "13. What can you do to save a programme from crashing if it encounters an error?\n",
        "###You can use error handling techniques like try-except blocks to save a program from crashing if it encounters an error.\n",
        "14. What is the purpose of the try clause? What is the purpose of the except clause?\n",
        "###The purpose of the try clause is to execute a block of code and catch any exceptions that may be raised during execution. The purpose of the except clause is to handle the caught exceptions and perform appropriate actions based on the type of exception.\n",
        "\n"
      ],
      "metadata": {
        "id": "rmGvOYNzAQpL"
      }
    },
    {
      "cell_type": "markdown",
      "source": [],
      "metadata": {
        "id": "pibe0pk2B89V"
      }
    }
  ]
}